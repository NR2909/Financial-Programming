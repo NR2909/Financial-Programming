{
 "cells": [
  {
   "cell_type": "code",
   "execution_count": 1,
   "id": "2ce7803d",
   "metadata": {},
   "outputs": [],
   "source": [
    "# Import libraries\n",
    "import numpy as np\n",
    "import pandas as pd\n",
    "import matplotlib.pyplot as plt\n",
    "from datetime import datetime\n",
    "\n",
    "# Show all columns\n",
    "pd.set_option('display.max_rows', None)"
   ]
  },
  {
   "cell_type": "code",
   "execution_count": 2,
   "id": "2f77f196",
   "metadata": {},
   "outputs": [
    {
     "ename": "FileNotFoundError",
     "evalue": "[Errno 2] No such file or directory: './data/raw/data_berka/client.asc'",
     "output_type": "error",
     "traceback": [
      "\u001b[1;31m---------------------------------------------------------------------------\u001b[0m",
      "\u001b[1;31mFileNotFoundError\u001b[0m                         Traceback (most recent call last)",
      "\u001b[1;32m<ipython-input-2-bef357a25c16>\u001b[0m in \u001b[0;36m<module>\u001b[1;34m\u001b[0m\n\u001b[0;32m      3\u001b[0m \u001b[1;33m\u001b[0m\u001b[0m\n\u001b[0;32m      4\u001b[0m \u001b[1;31m# Each record describes characteristics of a client\u001b[0m\u001b[1;33m\u001b[0m\u001b[1;33m\u001b[0m\u001b[1;33m\u001b[0m\u001b[0m\n\u001b[1;32m----> 5\u001b[1;33m \u001b[0mclient\u001b[0m \u001b[1;33m=\u001b[0m \u001b[0mpd\u001b[0m\u001b[1;33m.\u001b[0m\u001b[0mread_csv\u001b[0m\u001b[1;33m(\u001b[0m\u001b[1;34m'./data/raw/data_berka/client.asc'\u001b[0m\u001b[1;33m,\u001b[0m \u001b[0msep\u001b[0m\u001b[1;33m=\u001b[0m\u001b[1;34m';'\u001b[0m\u001b[1;33m)\u001b[0m\u001b[1;33m\u001b[0m\u001b[1;33m\u001b[0m\u001b[0m\n\u001b[0m\u001b[0;32m      6\u001b[0m \u001b[1;33m\u001b[0m\u001b[0m\n\u001b[0;32m      7\u001b[0m \u001b[1;31m# Each record describes static characteristics of an account\u001b[0m\u001b[1;33m\u001b[0m\u001b[1;33m\u001b[0m\u001b[1;33m\u001b[0m\u001b[0m\n",
      "\u001b[1;32mC:\\tools\\Anaconda3\\lib\\site-packages\\pandas\\io\\parsers.py\u001b[0m in \u001b[0;36mread_csv\u001b[1;34m(filepath_or_buffer, sep, delimiter, header, names, index_col, usecols, squeeze, prefix, mangle_dupe_cols, dtype, engine, converters, true_values, false_values, skipinitialspace, skiprows, skipfooter, nrows, na_values, keep_default_na, na_filter, verbose, skip_blank_lines, parse_dates, infer_datetime_format, keep_date_col, date_parser, dayfirst, cache_dates, iterator, chunksize, compression, thousands, decimal, lineterminator, quotechar, quoting, doublequote, escapechar, comment, encoding, dialect, error_bad_lines, warn_bad_lines, delim_whitespace, low_memory, memory_map, float_precision, storage_options)\u001b[0m\n\u001b[0;32m    608\u001b[0m     \u001b[0mkwds\u001b[0m\u001b[1;33m.\u001b[0m\u001b[0mupdate\u001b[0m\u001b[1;33m(\u001b[0m\u001b[0mkwds_defaults\u001b[0m\u001b[1;33m)\u001b[0m\u001b[1;33m\u001b[0m\u001b[1;33m\u001b[0m\u001b[0m\n\u001b[0;32m    609\u001b[0m \u001b[1;33m\u001b[0m\u001b[0m\n\u001b[1;32m--> 610\u001b[1;33m     \u001b[1;32mreturn\u001b[0m \u001b[0m_read\u001b[0m\u001b[1;33m(\u001b[0m\u001b[0mfilepath_or_buffer\u001b[0m\u001b[1;33m,\u001b[0m \u001b[0mkwds\u001b[0m\u001b[1;33m)\u001b[0m\u001b[1;33m\u001b[0m\u001b[1;33m\u001b[0m\u001b[0m\n\u001b[0m\u001b[0;32m    611\u001b[0m \u001b[1;33m\u001b[0m\u001b[0m\n\u001b[0;32m    612\u001b[0m \u001b[1;33m\u001b[0m\u001b[0m\n",
      "\u001b[1;32mC:\\tools\\Anaconda3\\lib\\site-packages\\pandas\\io\\parsers.py\u001b[0m in \u001b[0;36m_read\u001b[1;34m(filepath_or_buffer, kwds)\u001b[0m\n\u001b[0;32m    460\u001b[0m \u001b[1;33m\u001b[0m\u001b[0m\n\u001b[0;32m    461\u001b[0m     \u001b[1;31m# Create the parser.\u001b[0m\u001b[1;33m\u001b[0m\u001b[1;33m\u001b[0m\u001b[1;33m\u001b[0m\u001b[0m\n\u001b[1;32m--> 462\u001b[1;33m     \u001b[0mparser\u001b[0m \u001b[1;33m=\u001b[0m \u001b[0mTextFileReader\u001b[0m\u001b[1;33m(\u001b[0m\u001b[0mfilepath_or_buffer\u001b[0m\u001b[1;33m,\u001b[0m \u001b[1;33m**\u001b[0m\u001b[0mkwds\u001b[0m\u001b[1;33m)\u001b[0m\u001b[1;33m\u001b[0m\u001b[1;33m\u001b[0m\u001b[0m\n\u001b[0m\u001b[0;32m    463\u001b[0m \u001b[1;33m\u001b[0m\u001b[0m\n\u001b[0;32m    464\u001b[0m     \u001b[1;32mif\u001b[0m \u001b[0mchunksize\u001b[0m \u001b[1;32mor\u001b[0m \u001b[0miterator\u001b[0m\u001b[1;33m:\u001b[0m\u001b[1;33m\u001b[0m\u001b[1;33m\u001b[0m\u001b[0m\n",
      "\u001b[1;32mC:\\tools\\Anaconda3\\lib\\site-packages\\pandas\\io\\parsers.py\u001b[0m in \u001b[0;36m__init__\u001b[1;34m(self, f, engine, **kwds)\u001b[0m\n\u001b[0;32m    817\u001b[0m             \u001b[0mself\u001b[0m\u001b[1;33m.\u001b[0m\u001b[0moptions\u001b[0m\u001b[1;33m[\u001b[0m\u001b[1;34m\"has_index_names\"\u001b[0m\u001b[1;33m]\u001b[0m \u001b[1;33m=\u001b[0m \u001b[0mkwds\u001b[0m\u001b[1;33m[\u001b[0m\u001b[1;34m\"has_index_names\"\u001b[0m\u001b[1;33m]\u001b[0m\u001b[1;33m\u001b[0m\u001b[1;33m\u001b[0m\u001b[0m\n\u001b[0;32m    818\u001b[0m \u001b[1;33m\u001b[0m\u001b[0m\n\u001b[1;32m--> 819\u001b[1;33m         \u001b[0mself\u001b[0m\u001b[1;33m.\u001b[0m\u001b[0m_engine\u001b[0m \u001b[1;33m=\u001b[0m \u001b[0mself\u001b[0m\u001b[1;33m.\u001b[0m\u001b[0m_make_engine\u001b[0m\u001b[1;33m(\u001b[0m\u001b[0mself\u001b[0m\u001b[1;33m.\u001b[0m\u001b[0mengine\u001b[0m\u001b[1;33m)\u001b[0m\u001b[1;33m\u001b[0m\u001b[1;33m\u001b[0m\u001b[0m\n\u001b[0m\u001b[0;32m    820\u001b[0m \u001b[1;33m\u001b[0m\u001b[0m\n\u001b[0;32m    821\u001b[0m     \u001b[1;32mdef\u001b[0m \u001b[0mclose\u001b[0m\u001b[1;33m(\u001b[0m\u001b[0mself\u001b[0m\u001b[1;33m)\u001b[0m\u001b[1;33m:\u001b[0m\u001b[1;33m\u001b[0m\u001b[1;33m\u001b[0m\u001b[0m\n",
      "\u001b[1;32mC:\\tools\\Anaconda3\\lib\\site-packages\\pandas\\io\\parsers.py\u001b[0m in \u001b[0;36m_make_engine\u001b[1;34m(self, engine)\u001b[0m\n\u001b[0;32m   1048\u001b[0m             )\n\u001b[0;32m   1049\u001b[0m         \u001b[1;31m# error: Too many arguments for \"ParserBase\"\u001b[0m\u001b[1;33m\u001b[0m\u001b[1;33m\u001b[0m\u001b[1;33m\u001b[0m\u001b[0m\n\u001b[1;32m-> 1050\u001b[1;33m         \u001b[1;32mreturn\u001b[0m \u001b[0mmapping\u001b[0m\u001b[1;33m[\u001b[0m\u001b[0mengine\u001b[0m\u001b[1;33m]\u001b[0m\u001b[1;33m(\u001b[0m\u001b[0mself\u001b[0m\u001b[1;33m.\u001b[0m\u001b[0mf\u001b[0m\u001b[1;33m,\u001b[0m \u001b[1;33m**\u001b[0m\u001b[0mself\u001b[0m\u001b[1;33m.\u001b[0m\u001b[0moptions\u001b[0m\u001b[1;33m)\u001b[0m  \u001b[1;31m# type: ignore[call-arg]\u001b[0m\u001b[1;33m\u001b[0m\u001b[1;33m\u001b[0m\u001b[0m\n\u001b[0m\u001b[0;32m   1051\u001b[0m \u001b[1;33m\u001b[0m\u001b[0m\n\u001b[0;32m   1052\u001b[0m     \u001b[1;32mdef\u001b[0m \u001b[0m_failover_to_python\u001b[0m\u001b[1;33m(\u001b[0m\u001b[0mself\u001b[0m\u001b[1;33m)\u001b[0m\u001b[1;33m:\u001b[0m\u001b[1;33m\u001b[0m\u001b[1;33m\u001b[0m\u001b[0m\n",
      "\u001b[1;32mC:\\tools\\Anaconda3\\lib\\site-packages\\pandas\\io\\parsers.py\u001b[0m in \u001b[0;36m__init__\u001b[1;34m(self, src, **kwds)\u001b[0m\n\u001b[0;32m   1865\u001b[0m \u001b[1;33m\u001b[0m\u001b[0m\n\u001b[0;32m   1866\u001b[0m         \u001b[1;31m# open handles\u001b[0m\u001b[1;33m\u001b[0m\u001b[1;33m\u001b[0m\u001b[1;33m\u001b[0m\u001b[0m\n\u001b[1;32m-> 1867\u001b[1;33m         \u001b[0mself\u001b[0m\u001b[1;33m.\u001b[0m\u001b[0m_open_handles\u001b[0m\u001b[1;33m(\u001b[0m\u001b[0msrc\u001b[0m\u001b[1;33m,\u001b[0m \u001b[0mkwds\u001b[0m\u001b[1;33m)\u001b[0m\u001b[1;33m\u001b[0m\u001b[1;33m\u001b[0m\u001b[0m\n\u001b[0m\u001b[0;32m   1868\u001b[0m         \u001b[1;32massert\u001b[0m \u001b[0mself\u001b[0m\u001b[1;33m.\u001b[0m\u001b[0mhandles\u001b[0m \u001b[1;32mis\u001b[0m \u001b[1;32mnot\u001b[0m \u001b[1;32mNone\u001b[0m\u001b[1;33m\u001b[0m\u001b[1;33m\u001b[0m\u001b[0m\n\u001b[0;32m   1869\u001b[0m         \u001b[1;32mfor\u001b[0m \u001b[0mkey\u001b[0m \u001b[1;32min\u001b[0m \u001b[1;33m(\u001b[0m\u001b[1;34m\"storage_options\"\u001b[0m\u001b[1;33m,\u001b[0m \u001b[1;34m\"encoding\"\u001b[0m\u001b[1;33m,\u001b[0m \u001b[1;34m\"memory_map\"\u001b[0m\u001b[1;33m,\u001b[0m \u001b[1;34m\"compression\"\u001b[0m\u001b[1;33m)\u001b[0m\u001b[1;33m:\u001b[0m\u001b[1;33m\u001b[0m\u001b[1;33m\u001b[0m\u001b[0m\n",
      "\u001b[1;32mC:\\tools\\Anaconda3\\lib\\site-packages\\pandas\\io\\parsers.py\u001b[0m in \u001b[0;36m_open_handles\u001b[1;34m(self, src, kwds)\u001b[0m\n\u001b[0;32m   1360\u001b[0m         \u001b[0mLet\u001b[0m \u001b[0mthe\u001b[0m \u001b[0mreaders\u001b[0m \u001b[0mopen\u001b[0m \u001b[0mIOHanldes\u001b[0m \u001b[0mafter\u001b[0m \u001b[0mthey\u001b[0m \u001b[0mare\u001b[0m \u001b[0mdone\u001b[0m \u001b[1;32mwith\u001b[0m \u001b[0mtheir\u001b[0m \u001b[0mpotential\u001b[0m \u001b[0mraises\u001b[0m\u001b[1;33m.\u001b[0m\u001b[1;33m\u001b[0m\u001b[1;33m\u001b[0m\u001b[0m\n\u001b[0;32m   1361\u001b[0m         \"\"\"\n\u001b[1;32m-> 1362\u001b[1;33m         self.handles = get_handle(\n\u001b[0m\u001b[0;32m   1363\u001b[0m             \u001b[0msrc\u001b[0m\u001b[1;33m,\u001b[0m\u001b[1;33m\u001b[0m\u001b[1;33m\u001b[0m\u001b[0m\n\u001b[0;32m   1364\u001b[0m             \u001b[1;34m\"r\"\u001b[0m\u001b[1;33m,\u001b[0m\u001b[1;33m\u001b[0m\u001b[1;33m\u001b[0m\u001b[0m\n",
      "\u001b[1;32mC:\\tools\\Anaconda3\\lib\\site-packages\\pandas\\io\\common.py\u001b[0m in \u001b[0;36mget_handle\u001b[1;34m(path_or_buf, mode, encoding, compression, memory_map, is_text, errors, storage_options)\u001b[0m\n\u001b[0;32m    640\u001b[0m                 \u001b[0merrors\u001b[0m \u001b[1;33m=\u001b[0m \u001b[1;34m\"replace\"\u001b[0m\u001b[1;33m\u001b[0m\u001b[1;33m\u001b[0m\u001b[0m\n\u001b[0;32m    641\u001b[0m             \u001b[1;31m# Encoding\u001b[0m\u001b[1;33m\u001b[0m\u001b[1;33m\u001b[0m\u001b[1;33m\u001b[0m\u001b[0m\n\u001b[1;32m--> 642\u001b[1;33m             handle = open(\n\u001b[0m\u001b[0;32m    643\u001b[0m                 \u001b[0mhandle\u001b[0m\u001b[1;33m,\u001b[0m\u001b[1;33m\u001b[0m\u001b[1;33m\u001b[0m\u001b[0m\n\u001b[0;32m    644\u001b[0m                 \u001b[0mioargs\u001b[0m\u001b[1;33m.\u001b[0m\u001b[0mmode\u001b[0m\u001b[1;33m,\u001b[0m\u001b[1;33m\u001b[0m\u001b[1;33m\u001b[0m\u001b[0m\n",
      "\u001b[1;31mFileNotFoundError\u001b[0m: [Errno 2] No such file or directory: './data/raw/data_berka/client.asc'"
     ]
    }
   ],
   "source": [
    "# Import banking data\n",
    "# Note: This data was extracted on 1999\n",
    "\n",
    "# Each record describes characteristics of a client\n",
    "client = pd.read_csv('./data/raw/data_berka/client.asc', sep=';')\n",
    "\n",
    "# Each record describes static characteristics of an account\n",
    "account = pd.read_csv('./data/raw/data_berka/account.asc', sep=';')\n",
    "\n",
    "# Each record describes a credit card issued to an account\n",
    "card = pd.read_csv('./data/raw/data_berka/card.asc', sep=';')\n",
    "\n",
    "# Each record describes demographic characteristics of a district\n",
    "district = pd.read_csv('./data/raw/data_berka/district.asc', sep=';')\n",
    "\n",
    "# Each record relates together a client with an account\n",
    "# i.e. this relation describes the rights of clients to operate accounts\n",
    "disp = pd.read_csv('./data/raw/data_berka/disp.asc', sep=';')\n",
    "\n",
    "# Each record describes characteristics of a payment order (debits only)\n",
    "order = pd.read_csv('./data/raw/data_berka/order.asc', sep=';')\n",
    "\n",
    "# Each record describes one transaction on an account\n",
    "trans = pd.read_csv('./data/raw/data_berka/trans.asc', sep=';', low_memory=False)\n",
    "\n",
    "# Each record describes a loan granted for a given account\n",
    "loan = pd.read_csv('./data/raw/data_berka/loan.asc', sep=';')"
   ]
  },
  {
   "cell_type": "code",
   "execution_count": null,
   "id": "1d80bea5",
   "metadata": {},
   "outputs": [],
   "source": [
    "client['birth year'] = client['birth_number'].astype(str).str[0:2].astype(int)+ 1900\n",
    "client['birth month'] = client['birth_number'].astype(str).str[2:4].astype(int)\n",
    "client['birth day'] = client['birth_number'].astype(str).str[4:6].astype(int)\n",
    "client['gender'] = 'M'\n",
    "client.loc[client['birth month']>50, 'gender'] = 'F'\n",
    "client.loc[client['birth month']>50, 'birth month'] = client['birth month'] - 50\n",
    "client['age'] = 1996 - client['birth year'] \n",
    "client['age_group'] = client['age']//10*10\n",
    "\n",
    "client['birth date'] = client.apply(lambda a: datetime(a['birth year'], a['birth month'], a['birth day']), axis = 1)\n",
    "del client['birth_number'], client['birth month'], client['birth day'], client['birth year']"
   ]
  },
  {
   "cell_type": "code",
   "execution_count": null,
   "id": "dfc139fd",
   "metadata": {},
   "outputs": [],
   "source": []
  },
  {
   "cell_type": "code",
   "execution_count": null,
   "id": "b7a691bf",
   "metadata": {},
   "outputs": [],
   "source": [
    "card['year'] = card['issued'].astype(str).str[0:2].astype(int)+ 1900\n",
    "card['month'] = card['issued'].astype(str).str[2:4].astype(int)\n",
    "card['day'] = card['issued'].astype(str).str[4:6].astype(int)\n",
    "\n",
    "card['Card Issued Date'] = card.apply(lambda a: datetime(a['year'], a['month'], a['day']), axis = 1)\n",
    "\n",
    "card_1997 = card[card['year'] == 1997 ]\n",
    "card_1997 = card_1997.reset_index()\n",
    "\n",
    "card_1997['Issued_0/1'] = 1\n",
    "\n",
    "del card_1997['month'], card_1997['day'], card_1997['index'], card_1997['issued'], card_1997['year'], card_1997['Card Issued Date']"
   ]
  },
  {
   "cell_type": "code",
   "execution_count": null,
   "id": "ad5141cb",
   "metadata": {},
   "outputs": [],
   "source": []
  },
  {
   "cell_type": "code",
   "execution_count": null,
   "id": "efbda878",
   "metadata": {},
   "outputs": [],
   "source": [
    "loan['year'] = loan['date'].astype(str).str[0:2].astype(int)+ 1900\n",
    "loan['month'] = loan['date'].astype(str).str[2:4].astype(int)\n",
    "loan['day'] = loan['date'].astype(str).str[4:6].astype(int)\n",
    "\n",
    "loan['loan date'] = loan.apply(lambda a: datetime(a['year'], a['month'], a['day']), axis = 1)\n",
    "del loan['month'], loan['day']\n",
    "\n",
    "loan_1997 = loan[loan['year'] == 1997]\n",
    "loan_1997 = loan_1997.reset_index()\n",
    "\n",
    "loan_1997['loan granted'] = 1\n",
    "\n",
    "del loan_1997['index'], loan_1997['date'], loan_1997['duration'], loan_1997['status'], loan_1997['loan date'], loan_1997['year'], loan_1997['payments']"
   ]
  },
  {
   "cell_type": "code",
   "execution_count": null,
   "id": "c8379fd9",
   "metadata": {},
   "outputs": [],
   "source": []
  },
  {
   "cell_type": "code",
   "execution_count": null,
   "id": "50c0d545",
   "metadata": {},
   "outputs": [],
   "source": [
    "district  = district.rename(columns = {'A1': 'district_id', \n",
    "                                       'A2':'district name',\n",
    "                                       'A3': 'region',\n",
    "                                       'A4': 'inhabitants',\n",
    "                                       'A5': 'municipalities with inhabitants < 499',\n",
    "                                       'A6': 'municipalities with inhabitants 500-1999',\n",
    "                                       'A7': 'municipalities with inhabitants 2000-9999',\n",
    "                                       'A8': 'municipalities with inhabitants >10000',\n",
    "                                       'A9': 'cities',\n",
    "                                       'A10': 'ratio of urban inhabitants',\n",
    "                                       'A11': 'average salary',\n",
    "                                       'A12': 'unemploymant rate 1995',\n",
    "                                       'A13': 'unemploymant rate 1996',\n",
    "                                       'A14': 'enterpreneurs per 1000 inhabitants',\n",
    "                                       'A15': 'commited crimes 1995',\n",
    "                                       'A16': 'commited crimes 1996'})"
   ]
  },
  {
   "cell_type": "code",
   "execution_count": null,
   "id": "88cc07bc",
   "metadata": {},
   "outputs": [],
   "source": []
  },
  {
   "cell_type": "code",
   "execution_count": null,
   "id": "bdaaf15e",
   "metadata": {},
   "outputs": [],
   "source": [
    "order['k_symbol'] = order['k_symbol'].map({\n",
    "    'SIPO' : 'household payment',\n",
    "    'UVER' : 'loan payment', ' ': 'other', 'POJISTNE' : 'insurance payment', 'LEASING': 'lease'\n",
    "})\n",
    "\n",
    "order = order.pivot_table(index=['account_id'], columns = 'k_symbol', values = 'amount', fill_value = 0)\n",
    "order.columns.name = None\n",
    "order = order.reset_index()\n",
    "\n",
    "order['total order payment'] = order['household payment']+order['lease']+order['other']+order['loan payment'] + order['insurance payment']\n"
   ]
  },
  {
   "cell_type": "code",
   "execution_count": null,
   "id": "2a016542",
   "metadata": {},
   "outputs": [],
   "source": []
  },
  {
   "cell_type": "code",
   "execution_count": null,
   "id": "5ffcab29",
   "metadata": {},
   "outputs": [],
   "source": [
    "trans['year'] = trans['date'].astype(str).str[0:2].astype(int) + 1900\n",
    "trans['month'] = trans['date'].astype(str).str[2:4].astype(int)\n",
    "trans['day'] = trans['date'].astype(str).str[4:6].astype(int) \n",
    "trans['transaction_date'] = trans.apply(lambda a: datetime(a['year'], a['month'], a['day']), axis = 1)\n",
    "\n",
    "del trans['date']"
   ]
  },
  {
   "cell_type": "code",
   "execution_count": null,
   "id": "251fa8d3",
   "metadata": {},
   "outputs": [],
   "source": [
    "trans_balance = trans[['account_id', 'year', 'month', 'day', 'balance']]\n",
    "trans_balance = trans_balance.sort_values(['account_id', 'year', 'month', 'day'], ascending = [True, True, True, False])\n",
    "\n",
    "def FindMonthEnd(df):\n",
    "    df1 = pd.Series(0, index=df.index)\n",
    "    df1.iloc[-1] = 1\n",
    "    return df1\n",
    "\n",
    "trans_balance[\"Month end\"] = trans_balance.groupby(['account_id','year', 'month'])['day'].apply(FindMonthEnd)\n",
    "trans_balance = trans_balance[trans_balance['Month end'] == 1]\n",
    "trans_balance = trans_balance[trans_balance['year'] == 1996]\n",
    "del trans_balance['year'], trans_balance['month'], trans_balance['day'], trans_balance['Month end']\n",
    "\n",
    "trans_balance = trans_balance.groupby('account_id').agg( {'balance':['mean', 'median']}) \n",
    "trans_balance.columns = ['Average Montly Balance', 'Median Monthly Balance']\n",
    "\n",
    "trans_balance.columns.name = None\n",
    "trans_balance = trans_balance.reset_index()"
   ]
  },
  {
   "cell_type": "code",
   "execution_count": null,
   "id": "c25288c6",
   "metadata": {},
   "outputs": [],
   "source": []
  },
  {
   "cell_type": "code",
   "execution_count": null,
   "id": "1af136fc",
   "metadata": {},
   "outputs": [],
   "source": [
    "trans['operation'] = trans['operation'].map({\n",
    "    'VKLAD': 'Credit in Cash', 'PREVOD Z UCTU': 'Collection from another bank' , 'VYBER':'withdrawal in cash', \n",
    "    'PREVOD NA UCET': 'remittance to another bank',\n",
    "       'VYBER KARTOU': 'remittance to another bank',\n",
    "})\n",
    "trans.loc[trans['operation'].isna(), 'operation'] = 'Interest Credited'\n",
    "\n",
    "trans = trans.pivot_table(index = ['account_id', 'transaction_date', 'balance', 'month', 'year'], columns = 'operation', \n",
    "                          values = 'amount', fill_value = 0)\n",
    "\n",
    "trans.columns.name = None\n",
    "trans = trans.reset_index()\n",
    "\n",
    "trans_96 = trans[trans['year'] == 1996]\n",
    "del trans_96['year'], trans_96['balance']\n",
    "\n",
    "trans_96 = trans_96.groupby(['account_id', 'month']).agg('sum')\n",
    "\n",
    "trans_96.columns.name = None\n",
    "trans_96 = trans_96.reset_index()\n",
    "\n",
    "trans_96['Total Credit'] = trans_96['Collection from another bank'] + trans_96['Credit in Cash'] + trans_96['Interest Credited']\n",
    "trans_96['Total Debit'] = trans_96['remittance to another bank'] + trans_96['withdrawal in cash']\n",
    "\n",
    "trans_96['monthly savings'] = trans_96['Total Credit'] - trans_96['Total Debit']\n",
    "trans_96 = trans_96.groupby('account_id').agg('mean')\n",
    "\n",
    "trans_96.columns.name = None\n",
    "trans_96 = trans_96.reset_index()\n",
    "\n",
    "trans_96 = trans_96.rename(columns = {'Collection from another bank': 'Average Collection from another bank' , \n",
    "                                      'Credit in Cash' : 'Average Credit in Cash' ,\n",
    "                                      'Interest Credited':'Average Interest Credited', \n",
    "                                      'remittance to another bank' : ' Average remittance to another bank' ,\n",
    "                                      'withdrawal in cash': 'Average withdrawal in cash',\n",
    "                                      'Total Credit' : 'Average Total Credit', \n",
    "                                      'Total Debit' : 'Average Total Debit', \n",
    "                                      'monthly savings': 'Average Monthly Savings'})"
   ]
  },
  {
   "cell_type": "code",
   "execution_count": null,
   "id": "dc09b227",
   "metadata": {},
   "outputs": [],
   "source": [
    "transaction_summary = pd.merge(trans_96, trans_balance, on = 'account_id')\n",
    "del transaction_summary['month']"
   ]
  },
  {
   "cell_type": "code",
   "execution_count": null,
   "id": "583d846c",
   "metadata": {},
   "outputs": [],
   "source": [
    "trans96 = trans[trans['year']==1996]\n",
    "# Aggregate the total credit per account\n",
    "trans_agg_credit = trans96[trans96['type'].isin(['PRIJEM'])].groupby('account_id')['amount'].agg('sum')\n",
    "trans_agg_credit = trans_agg_credit.reset_index()\n",
    "trans_agg_credit = trans_agg_credit.rename(columns={'amount':'total_credit'})\n",
    "trans_agg_credit.head()"
   ]
  },
  {
   "cell_type": "code",
   "execution_count": null,
   "id": "7ff733f1",
   "metadata": {},
   "outputs": [],
   "source": [
    "# Aggregate the total withdrawal per account\n",
    "trans_agg_withdrawal = trans96[trans96['type'].isin(['VYDAJ', 'VYBER'])].groupby('account_id')['amount'].agg('sum')\n",
    "trans_agg_withdrawal = trans_agg_withdrawal.reset_index()\n",
    "trans_agg_withdrawal = trans_agg_withdrawal.rename(columns={'amount':'total_withdrawal'})\n",
    "trans_agg_withdrawal.head()"
   ]
  },
  {
   "cell_type": "code",
   "execution_count": null,
   "id": "08f9b991",
   "metadata": {},
   "outputs": [],
   "source": [
    "transaction_summary = pd.merge(transaction_summary, trans_agg_credit, how='left', on='account_id')\n",
    "transaction_summary = pd.merge(transaction_summary, trans_agg_withdrawal, how='left', on='account_id')"
   ]
  },
  {
   "cell_type": "code",
   "execution_count": null,
   "id": "2bc1efd7",
   "metadata": {},
   "outputs": [],
   "source": []
  },
  {
   "cell_type": "code",
   "execution_count": null,
   "id": "4a534ea1",
   "metadata": {},
   "outputs": [],
   "source": [
    "account['open year'] = account['date'].astype(str).str[0:2].astype(int) + 1900\n",
    "account['open month'] = account['date'].astype(str).str[2:4].astype(int)\n",
    "account['day'] = account['date'].astype(str).str[4:6].astype(int)\n",
    "account['open_date'] = account.apply(lambda a: datetime(a['open year'], a['open month'], a['day']), axis = 1)\n",
    "account['LOR'] = 1996 - account['open year']\n",
    "\n",
    "account = account[account['open year'] < 1997]\n",
    "\n",
    "account['frequency'] = account['frequency'].map({'POPLATEK MESICNE':'Monthly Issuance',\n",
    "                                                'POPLATEK TYDNE': 'Weekly Issuance',\n",
    "                                                'POPLATEK PO OBRATU': 'Issuance after transaction'})\n",
    "\n",
    "\n",
    "\n",
    "del account['date'], account['open month'], account['day'], account['open year'], account['open_date']"
   ]
  },
  {
   "cell_type": "code",
   "execution_count": null,
   "id": "1ce26f46",
   "metadata": {},
   "outputs": [],
   "source": []
  },
  {
   "cell_type": "code",
   "execution_count": null,
   "id": "1ebb10b7",
   "metadata": {},
   "outputs": [],
   "source": [
    "client_disp = pd.merge(client, disp, on = 'client_id', how = 'left')\n",
    "client_disp['can apply loan?'] = 'Yes'\n",
    "client_disp.loc[client_disp['type']== 'DISPONENT', 'can apply loan?'] = 'No'\n",
    "client_disp['permanent orders applicable?'] = 'Yes'\n",
    "client_disp.loc[client_disp['type']== 'DISPONENT', 'permanent orders applicable?'] = 'No'"
   ]
  }
 ],
 "metadata": {
  "kernelspec": {
   "display_name": "Python 3",
   "language": "python",
   "name": "python3"
  },
  "language_info": {
   "codemirror_mode": {
    "name": "ipython",
    "version": 3
   },
   "file_extension": ".py",
   "mimetype": "text/x-python",
   "name": "python",
   "nbconvert_exporter": "python",
   "pygments_lexer": "ipython3",
   "version": "3.8.8"
  }
 },
 "nbformat": 4,
 "nbformat_minor": 5
}
